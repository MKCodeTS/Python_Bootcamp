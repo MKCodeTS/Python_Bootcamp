{
  "nbformat": 4,
  "nbformat_minor": 0,
  "metadata": {
    "colab": {
      "name": "week_three",
      "provenance": [],
      "collapsed_sections": [],
      "authorship_tag": "ABX9TyP1rNuj7BQVNPGUsPdcdQK3",
      "include_colab_link": true
    },
    "kernelspec": {
      "name": "python3",
      "display_name": "Python 3"
    }
  },
  "cells": [
    {
      "cell_type": "markdown",
      "metadata": {
        "id": "view-in-github",
        "colab_type": "text"
      },
      "source": [
        "<a href=\"https://colab.research.google.com/github/MKCodeTS/Python_Bootcamp/blob/main/week_three.ipynb\" target=\"_parent\"><img src=\"https://colab.research.google.com/assets/colab-badge.svg\" alt=\"Open In Colab\"/></a>"
      ]
    },
    {
      "cell_type": "markdown",
      "metadata": {
        "id": "q5K-gCBjoRDZ"
      },
      "source": [
        "##Dictionaries and sets \n",
        "\n",
        "A dictionary is an association between keys and values.  \n"
      ]
    },
    {
      "cell_type": "markdown",
      "metadata": {
        "id": "tFg4KsfBvmgX"
      },
      "source": [
        "A dictionary associates key to values.  \n",
        "{} - dictionary literal, equivalent to integer literal.  \n",
        "Catching exceptions ( i.e you input name that is not in the dictionary ) using try and except allows you to give custom outputs for the errors which can be nice if you dont just want to put errors up on the screen anytime there is an issue.  \n",
        "\n",
        "if you pass in something that does not exist you get an exception \n",
        "\n",
        "\n",
        "This will also allow us to write code that will skip errors and continue working however some say it is not the best way and it polutes the code "
      ]
    },
    {
      "cell_type": "code",
      "metadata": {
        "colab": {
          "base_uri": "https://localhost:8080/"
        },
        "id": "Y7T1bnR2oLrt",
        "outputId": "101d735a-4197-4db0-99fb-5bbc1cc53e72"
      },
      "source": [
        "grades = {\n",
        "    'Kayla': {\n",
        "        'math' :[90, 80, 30, 20],\n",
        "        'science' :[94, 93, 92, 91],\n",
        "        'history' :[12, 23, 23, 45],\n",
        "        'reading' :[54, 23, 23, 54]\n",
        "    }, \n",
        "    'Caleb': {\n",
        "        'math':[9, 8, 3, 2],\n",
        "        'science':[94, 3, 2, 91],\n",
        "        'history':[2, 23, 23, 40],\n",
        "        'reading':[54, 28, 23, 56]\n",
        "    }, \n",
        "    'David': {\n",
        "        'math':[90, 80, 35, 20],\n",
        "        'science':[64, 93, 98, 91],\n",
        "        'history':[32, 73, 25, 45],\n",
        "        'reading':[60, 29, 23, 54]\n",
        "    }\n",
        "}\n",
        "\n",
        "for name in ['Kayla', 'Margot', 'David', 'Caleb']:\n",
        "  try:\n",
        "    print(grades[name])\n",
        "  except KeyError as k:\n",
        "    print(\"Error, key does not exist\", k)"
      ],
      "execution_count": null,
      "outputs": [
        {
          "output_type": "stream",
          "text": [
            "{'math': [90, 80, 30, 20], 'science': [94, 93, 92, 91], 'history': [12, 23, 23, 45], 'reading': [54, 23, 23, 54]}\n",
            "Error, key does not exist 'Margot'\n",
            "{'math': [90, 80, 35, 20], 'science': [64, 93, 98, 91], 'history': [32, 73, 25, 45], 'reading': [60, 29, 23, 54]}\n",
            "{'math': [9, 8, 3, 2], 'science': [94, 3, 2, 91], 'history': [2, 23, 23, 40], 'reading': [54, 28, 23, 56]}\n"
          ],
          "name": "stdout"
        }
      ]
    },
    {
      "cell_type": "markdown",
      "metadata": {
        "id": "feVGZ-r_zvZA"
      },
      "source": [
        ".get will either give you result or return None.\n",
        "\n",
        "for index error use slicing [:]"
      ]
    },
    {
      "cell_type": "code",
      "metadata": {
        "colab": {
          "base_uri": "https://localhost:8080/"
        },
        "id": "6IygpVuLy0Tc",
        "outputId": "eef6c161-f973-4db2-9f11-01db4e3e1785"
      },
      "source": [
        "grades = {\n",
        "    'Kayla': {\n",
        "        'math' :[90, 80, 30, 20],\n",
        "        'science' :[94, 93, 92, 91],\n",
        "        'history' :[12, 23, 23, 45],\n",
        "        'reading' :[54, 23, 23, 54]\n",
        "    }, \n",
        "    'Caleb': {\n",
        "        'math':[9, 8, 3, 2],\n",
        "        'science':[94, 3, 2, 91],\n",
        "        'history':[2, 23, 23, 40],\n",
        "        'reading':[54, 28, 23, 56]\n",
        "    }, \n",
        "    'David': {\n",
        "        'math':[90, 80, 35, 20],\n",
        "        'science':[64, 93, 98, 91],\n",
        "        'history':[32, 73, 25, 45],\n",
        "        'reading':[60, 29, 23, 54]\n",
        "    }\n",
        "}\n",
        "for name in ['David', 'Mariola', 'Csilla', 'Caleb']:\n",
        "  print(grades.get(name))\n",
        "\n",
        "#for method chaining where we have .get .get we need to add {} to the key , it is not going to throw an error in that case \n",
        "print(grades.get('Margot', {}).get('math'))  "
      ],
      "execution_count": null,
      "outputs": [
        {
          "output_type": "stream",
          "text": [
            "None\n"
          ],
          "name": "stdout"
        }
      ]
    },
    {
      "cell_type": "markdown",
      "metadata": {
        "id": "BT4f-30p9tGR"
      },
      "source": [
        "#Iterate through a dictionary "
      ]
    },
    {
      "cell_type": "code",
      "metadata": {
        "colab": {
          "base_uri": "https://localhost:8080/"
        },
        "id": "QVQV2wJE9wBi",
        "outputId": "b856edd1-9b61-464a-c776-98199cedecaa"
      },
      "source": [
        "drinks_in_storage= {\n",
        "    'grapes': 5,\n",
        "    'berry' : 3,\n",
        "    'apple' :4,\n",
        "    'cola' : 7\n",
        "}\n",
        "\n",
        "for drink, val in drinks_in_storage.items():\n",
        "  print(drink, val)\n",
        "\n",
        "drinks_purchased=[['grapes',4], ['berry', 2], ['apple', 5] , ['cola', 3], ['orange', 4]]\n",
        "\n",
        "for drink in drinks_purchased:\n",
        "  if drinks_in_storage.get(drink[0]):\n",
        "    drinks_in_storage[drink[0]] += drink[1]\n",
        "  else:\n",
        "    # drinks in storage orange is assigned to value 12 and adds it to the dic\n",
        "    drinks_in_storage[drink[0]] = drink[1] \n",
        "\n",
        "print(drinks_in_storage)    \n",
        "\n"
      ],
      "execution_count": null,
      "outputs": [
        {
          "output_type": "stream",
          "text": [
            "grapes 5\n",
            "berry 3\n",
            "apple 4\n",
            "cola 7\n",
            "{'grapes': 9, 'berry': 5, 'apple': 9, 'cola': 10, 'orange': 4}\n"
          ],
          "name": "stdout"
        }
      ]
    },
    {
      "cell_type": "markdown",
      "metadata": {
        "id": "EFzusVX8RArj"
      },
      "source": [
        "we can also do the above using defaultdict "
      ]
    },
    {
      "cell_type": "code",
      "metadata": {
        "colab": {
          "base_uri": "https://localhost:8080/"
        },
        "id": "vrnMa1kCREl2",
        "outputId": "0848c6c6-e774-4589-ea2c-c4e997f6181d"
      },
      "source": [
        "from collections import defaultdict\n",
        "\n",
        "drinks_in_storage= {\n",
        "    'grapes': 5,\n",
        "    'berry' : 3,\n",
        "    'apple' :4,\n",
        "    'cola' : 7\n",
        "}\n",
        "\n",
        "drinks_in_storage= defaultdict(int, drinks_in_storage)\n",
        "\n",
        "drinks_purchased=[['grapes',4], ['berry', 2], ['apple', 5] , ['cola', 3], ['orange', 4]]\n",
        "\n",
        "for drink in drinks_purchased:\n",
        "   drinks_in_storage[drink[0]] += drink[1]\n",
        "\n",
        "print(drinks_in_storage) \n",
        "\n",
        "for drink, val in drinks_in_storage.items():\n",
        "  print(f'{val} {drink} drinks')\n",
        "\n"
      ],
      "execution_count": null,
      "outputs": [
        {
          "output_type": "stream",
          "text": [
            "defaultdict(<class 'int'>, {'grapes': 9, 'berry': 5, 'apple': 9, 'cola': 10, 'orange': 4})\n",
            "9 grapes drinks\n",
            "5 berry drinks\n",
            "9 apple drinks\n",
            "10 cola drinks\n",
            "4 orange drinks\n"
          ],
          "name": "stdout"
        }
      ]
    },
    {
      "cell_type": "markdown",
      "metadata": {
        "id": "woMLyc8haRWt"
      },
      "source": [
        "#App to add data to a dictionary based in input from a user to make it interracitve"
      ]
    },
    {
      "cell_type": "code",
      "metadata": {
        "colab": {
          "base_uri": "https://localhost:8080/"
        },
        "id": "e-kYY8y5yWNA",
        "outputId": "6ce36750-6a98-4f72-a10e-82257e88f7a6"
      },
      "source": [
        "favrourite_drinks= {}\n",
        "\n",
        "while True:\n",
        "  print('Q to quit anytime')\n",
        "  drink= input(\"What is your favourite drink?: \")\n",
        "  if str.lower(drink) == 'q':\n",
        "    break\n",
        "  amount= (input(\"How many?: \"))\n",
        "  if str.lower(amount) == 'q':\n",
        "    break\n",
        "\n",
        "  #add drink and amoun to the dictionary,key is drink , value is amount\n",
        "  favrourite_drinks[drink]= int(amount) \n",
        "  \n",
        "  print(favrourite_drinks)\n",
        "\n",
        "print(\"Final drinks are :\", favrourite_drinks)  \n",
        "  \n"
      ],
      "execution_count": null,
      "outputs": [
        {
          "output_type": "stream",
          "text": [
            "Q to quit anytime\n",
            "What is your favourite drink?: green juice\n",
            "How many?: 100\n",
            "{'green juice': 100}\n",
            "Q to quit anytime\n",
            "What is your favourite drink?: apple juice\n",
            "How many?: 20\n",
            "{'green juice': 100, 'apple juice': 20}\n",
            "Q to quit anytime\n",
            "What is your favourite drink?: tea\n",
            "How many?: 10\n",
            "{'green juice': 100, 'apple juice': 20, 'tea': 10}\n",
            "Q to quit anytime\n",
            "What is your favourite drink?: q\n",
            "Final drinks are : {'green juice': 100, 'apple juice': 20, 'tea': 10}\n"
          ],
          "name": "stdout"
        }
      ]
    },
    {
      "cell_type": "markdown",
      "metadata": {
        "id": "g9S3oQaC4QI-"
      },
      "source": [
        "We can work with multiple dictionaries and combine them.  \n",
        "It does not combine values so ginger beer will stay 4 in the below example "
      ]
    },
    {
      "cell_type": "code",
      "metadata": {
        "id": "C13AATHt4Tag",
        "colab": {
          "base_uri": "https://localhost:8080/"
        },
        "outputId": "d217fde0-5177-4234-816d-50564b7336fc"
      },
      "source": [
        "my_drinks= {\n",
        "    'coconut': 2,\n",
        "    'ginger beer':3,\n",
        "    'green juice': 6\n",
        "\n",
        "}\n",
        "\n",
        "his_drinks= {\n",
        "    'ginger beer': 4,\n",
        "    'green juice': 5,\n",
        "    'apple juice': 6\n",
        "}\n",
        "\n",
        "my_drinks.update(his_drinks)\n",
        "print(my_drinks)"
      ],
      "execution_count": 14,
      "outputs": [
        {
          "output_type": "stream",
          "text": [
            "{'coconut': 2, 'ginger beer': 4, 'green juice': 5, 'apple juice': 6}\n"
          ],
          "name": "stdout"
        }
      ]
    },
    {
      "cell_type": "markdown",
      "metadata": {
        "id": "sKs1NM4iDq5j"
      },
      "source": [
        "You can do a union of dictionary but it requires Python 3.9"
      ]
    },
    {
      "cell_type": "code",
      "metadata": {
        "colab": {
          "base_uri": "https://localhost:8080/",
          "height": 35
        },
        "id": "jY2vx0twDvtw",
        "outputId": "53036e14-9a82-4565-f9b4-525411afe4c8"
      },
      "source": [
        "import platform\n",
        "\n",
        "platform.python_version()"
      ],
      "execution_count": 18,
      "outputs": [
        {
          "output_type": "execute_result",
          "data": {
            "application/vnd.google.colaboratory.intrinsic+json": {
              "type": "string"
            },
            "text/plain": [
              "'3.6.9'"
            ]
          },
          "metadata": {
            "tags": []
          },
          "execution_count": 18
        }
      ]
    },
    {
      "cell_type": "code",
      "metadata": {
        "colab": {
          "base_uri": "https://localhost:8080/"
        },
        "id": "jjYxDU0yEZXo",
        "outputId": "d4ae09aa-1341-432f-c5e7-4ce7d3adf99b"
      },
      "source": [
        "import platform\n",
        "\n",
        "if int(platform.python_version()[2]) >= 9:\n",
        "  my_drinks= {\n",
        "    'coconut': 2,\n",
        "    'ginger beer':3,\n",
        "    'green juice': 6\n",
        "\n",
        "  }\n",
        "\n",
        "  his_drinks= {\n",
        "    'ginger beer': 4,\n",
        "    'green juice': 5,\n",
        "    'apple juice': 6\n",
        "  } \n",
        "  print( my_drinks | his_drinks) \n",
        "else:\n",
        "  print( \"This is version \", platform.python_version())  "
      ],
      "execution_count": 25,
      "outputs": [
        {
          "output_type": "stream",
          "text": [
            "This is version  3.6.9\n"
          ],
          "name": "stdout"
        }
      ]
    },
    {
      "cell_type": "markdown",
      "metadata": {
        "id": "OuF3a73GFznl"
      },
      "source": [
        "Sets- a lot of above principles will apply to sets.  \n",
        "The dirrerence is that we will not have key values, only values , if you put that value again it will replace the old one or keep it the same.  \n",
        "\n",
        "If you need a set just use set().  \n",
        "Positions are not retained within a set"
      ]
    },
    {
      "cell_type": "code",
      "metadata": {
        "colab": {
          "base_uri": "https://localhost:8080/"
        },
        "id": "1j2TKCMWF5n0",
        "outputId": "531b3b28-4496-4edc-8423-15c64bda06a6"
      },
      "source": [
        "my_drinks= {'grape', 'coconut', 'green juice'}\n",
        "his_drinks= {'beer', 'vodka'}\n",
        "\n",
        "print(my_drinks, his_drinks)"
      ],
      "execution_count": 28,
      "outputs": [
        {
          "output_type": "stream",
          "text": [
            "{'coconut', 'green juice', 'grape'} {'beer', 'vodka'}\n"
          ],
          "name": "stdout"
        }
      ]
    },
    {
      "cell_type": "markdown",
      "metadata": {
        "id": "u7hDxkKpHpzb"
      },
      "source": [
        "4 important operations in sets are : union, intersection, difference, symetric difference  "
      ]
    },
    {
      "cell_type": "code",
      "metadata": {
        "colab": {
          "base_uri": "https://localhost:8080/"
        },
        "id": "akY5FXfMJUXD",
        "outputId": "69f8f95a-59ab-4abe-982a-3ffe46f8cd42"
      },
      "source": [
        "my_drinks= {'grape', 'coconut', 'green juice'}\n",
        "his_drinks= {'beer', 'vodka'}\n",
        "\n",
        "print(my_drinks, his_drinks)\n",
        "\n",
        "#combine all the values, no duplicates with sets\n",
        "print('union', my_drinks | his_drinks)\n",
        "#just the shared elements for intersection\n",
        "print('intersection', my_drinks & his_drinks)\n",
        "#take out the ones that are not shared\n",
        "print('difference', my_drinks - his_drinks)\n",
        "#anything that is not shared \n",
        "print('symetric difference', my_drinks ^ his_drinks)\n",
        "\n"
      ],
      "execution_count": 29,
      "outputs": [
        {
          "output_type": "stream",
          "text": [
            "{'coconut', 'green juice', 'grape'} {'beer', 'vodka'}\n",
            "union {'beer', 'vodka', 'coconut', 'green juice', 'grape'}\n",
            "intersection set()\n",
            "difference {'coconut', 'green juice', 'grape'}\n",
            "symetric difference {'coconut', 'grape', 'beer', 'vodka', 'green juice'}\n"
          ],
          "name": "stdout"
        }
      ]
    },
    {
      "cell_type": "markdown",
      "metadata": {
        "id": "YG5VVbrRrop_"
      },
      "source": [
        "#Currency Converter"
      ]
    },
    {
      "cell_type": "markdown",
      "metadata": {
        "id": "ElU3lL6vtdfz"
      },
      "source": [
        "Here is a simple conversion example"
      ]
    },
    {
      "cell_type": "code",
      "metadata": {
        "colab": {
          "base_uri": "https://localhost:8080/"
        },
        "id": "BGNQioqOrsek",
        "outputId": "011ce480-e2e1-4981-fe13-ccea065d277e"
      },
      "source": [
        "dollars= int(input('How many dollars do you have ?: '))\n",
        "price= 19266.70\n",
        "\n",
        "return_currency= (dollars /price)\n",
        "\n",
        "print(f'You will get {return_currency} bitcion')\n",
        "\n",
        "\n"
      ],
      "execution_count": 48,
      "outputs": [
        {
          "output_type": "stream",
          "text": [
            "How many dollars do you have ?: 19000\n",
            "You will get 0.986157463395392 bitcion\n"
          ],
          "name": "stdout"
        }
      ]
    },
    {
      "cell_type": "markdown",
      "metadata": {
        "id": "j0xOgckqtY1c"
      },
      "source": [
        "Making it more general to work with any price of bitcoin"
      ]
    },
    {
      "cell_type": "code",
      "metadata": {
        "colab": {
          "base_uri": "https://localhost:8080/"
        },
        "id": "GT-u28eEvRWK",
        "outputId": "8b0dc83e-6bce-43cb-d7e4-642b294d7ae1"
      },
      "source": [
        "import requests\n",
        "\n",
        "dollars= int(input('How many dollars do you have ? '))\n",
        "\n",
        "response=requests.get('https://api.coindesk.com/v1/bpi/currentprice.json')\n",
        "\n",
        "price=response.json().get('bpi').get('USD').get('rate_float')\n",
        "\n",
        "print(f'You will get {dollars/price} bitcion')"
      ],
      "execution_count": 49,
      "outputs": [
        {
          "output_type": "stream",
          "text": [
            "How many dollars do you have ? 19000\n",
            "You will get 0.461600002349787 bitcion\n"
          ],
          "name": "stdout"
        }
      ]
    },
    {
      "cell_type": "markdown",
      "metadata": {
        "id": "WtzNNAi2HSOS"
      },
      "source": [
        "Decimal are ideal to use with fractional numbers like currency"
      ]
    },
    {
      "cell_type": "code",
      "metadata": {
        "colab": {
          "base_uri": "https://localhost:8080/"
        },
        "id": "2Kqz1W0FGmWg",
        "outputId": "84725d63-1c65-480c-b53a-d8d527e5635d"
      },
      "source": [
        "from pprint import pprint\n",
        "from decimal import Decimal\n",
        "\n",
        "response=requests.get('https://api.coindesk.com/v1/bpi/currentprice.json')\n",
        "#pprint(response.json())\n",
        "\n",
        "price=Decimal(response.json().get('bpi').get('USD').get('rate').replace(',', ''))\n",
        "print(price)"
      ],
      "execution_count": 61,
      "outputs": [
        {
          "output_type": "stream",
          "text": [
            "41150.0015\n"
          ],
          "name": "stdout"
        }
      ]
    },
    {
      "cell_type": "markdown",
      "metadata": {
        "id": "59QDjSjOJfyu"
      },
      "source": [
        "Making more sophisticated price checker \n"
      ]
    },
    {
      "cell_type": "code",
      "metadata": {
        "colab": {
          "base_uri": "https://localhost:8080/"
        },
        "id": "bJaIU3-LSOtF",
        "outputId": "55bc15d5-395b-45bc-d3dc-d645b3dacf33"
      },
      "source": [
        "import requests\n",
        "from pprint import pprint\n",
        "\n",
        "def get_coin_id(symbol):\n",
        "  response= requests.get('https://pro-api.coinmarketcap.com/v1/cryptocurrency/map?CMC_PRO_API_KEY=35b702de-02d1-42a8-9ad2-b3f3e8ffacf9&symbol=' + symbol)\n",
        "  return response.json().get('data')[0].get('id')\n",
        "\n",
        "coin_id=get_coin_id('ETH')\n",
        "print(coin_id)\n",
        "\n",
        "def get_coin_price(coin_id):\n",
        "\n",
        "  url='https://pro-api.coinmarketcap.com/v1/cryptocurrency/quotes/latest'\n",
        "  key= '35b702de-02d1-42a8-9ad2-b3f3e8ffacf9'\n",
        "  response=requests.get(f'{url}?CMC_PRO_API_KEY={key}&id={coin_id}')\n",
        "  return response.json().get('data').get(str(coin_id)).get('quote').get('USD').get('price')\n",
        "\n",
        "try:\n",
        "  coin=input(\"Give me a crypo symbol: \")\n",
        "  coin_id=get_coin_id(coin)\n",
        "  price=get_coin_price(coin_id)\n",
        " \n",
        "  print(f'1 {coin} is worth ${round(price, 2)}')  \n",
        "except Exception as e: \n",
        "  print('This symbol is invalid' , e)\n",
        "\n",
        "\n",
        "\n",
        "\n"
      ],
      "execution_count": 17,
      "outputs": [
        {
          "output_type": "stream",
          "text": [
            "1027\n",
            "Give me a crypo symbol: yyyyyy\n",
            "This symbol is invalid 'NoneType' object is not subscriptable\n"
          ],
          "name": "stdout"
        }
      ]
    },
    {
      "cell_type": "markdown",
      "metadata": {
        "id": "EBqui5EnC5hl"
      },
      "source": [
        "#Passing with params and headers \n"
      ]
    },
    {
      "cell_type": "code",
      "metadata": {
        "colab": {
          "base_uri": "https://localhost:8080/"
        },
        "id": "B8ikqSBBDAMH",
        "outputId": "473b7920-ddc7-43f1-e81c-f5ba91e63a2b"
      },
      "source": [
        "def get_coin_id(symbol):\n",
        "  url=('https://pro-api.coinmarketcap.com/v1/cryptocurrency/map') \n",
        "\n",
        "  params={\n",
        "      'symbol':symbol\n",
        "\n",
        "  } \n",
        "  headers= {\n",
        "      'Acceptc': 'application/json',\n",
        "      'X-CMC_PRO_API_KEY' : '35b702de-02d1-42a8-9ad2-b3f3e8ffacf9' \n",
        "  }\n",
        "\n",
        "  response= requests.get(url, params=params, headers= headers)\n",
        "  return response.json().get('data')[0].get('id')\n",
        "\n",
        "coin_id=get_coin_id('ETH')\n",
        "print(coin_id)"
      ],
      "execution_count": 19,
      "outputs": [
        {
          "output_type": "stream",
          "text": [
            "1027\n"
          ],
          "name": "stdout"
        }
      ]
    },
    {
      "cell_type": "markdown",
      "metadata": {
        "id": "qkj8odcbABOO"
      },
      "source": [
        "Crypto to cryptocurrency conversion"
      ]
    },
    {
      "cell_type": "code",
      "metadata": {
        "colab": {
          "base_uri": "https://localhost:8080/"
        },
        "id": "vaLuXKfAH0fF",
        "outputId": "3fa0eeac-469f-4a7b-a440-c8ad177204c9"
      },
      "source": [
        "start= input(\"Starting currency: \")\n",
        "amount= float(input(\"How many?: \"))\n",
        "end= input('Destination currency: ')\n",
        "\n",
        "price1= get_coin_price(get_coin_id(start))\n",
        "price2= get_coin_price(get_coin_id(end))\n",
        "\n",
        "print(f'{amount} {start} buys {round(price1 * amount/price2, 2)} {end}')\n"
      ],
      "execution_count": 23,
      "outputs": [
        {
          "output_type": "stream",
          "text": [
            "Starting currency: btc\n",
            "How many?: 10\n",
            "Destination currency: eth\n",
            "10.0 btc buys 333.51 eth\n"
          ],
          "name": "stdout"
        }
      ]
    }
  ]
}