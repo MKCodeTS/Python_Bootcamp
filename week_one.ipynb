{
  "nbformat": 4,
  "nbformat_minor": 0,
  "metadata": {
    "colab": {
      "name": "week_one.ipynb",
      "provenance": [],
      "collapsed_sections": [],
      "authorship_tag": "ABX9TyPxjFtX4DVp2aWVxmd3gkrU",
      "include_colab_link": true
    },
    "kernelspec": {
      "name": "python3",
      "display_name": "Python 3"
    }
  },
  "cells": [
    {
      "cell_type": "markdown",
      "metadata": {
        "id": "view-in-github",
        "colab_type": "text"
      },
      "source": [
        "<a href=\"https://colab.research.google.com/github/MKCodeTS/Python_Bootcamp/blob/main/week_one.ipynb\" target=\"_parent\"><img src=\"https://colab.research.google.com/assets/colab-badge.svg\" alt=\"Open In Colab\"/></a>"
      ]
    },
    {
      "cell_type": "code",
      "metadata": {
        "id": "i5Gnvhuu-IMZ",
        "colab": {
          "base_uri": "https://localhost:8080/"
        },
        "outputId": "55f1d398-4c21-4707-c0fd-279e13ab3803"
      },
      "source": [
        "import requests \n",
        "\n",
        "result= requests.get('https://uselessfacts.jsph.pl/random.json?language=en')\n",
        "print(result.text)\n"
      ],
      "execution_count": 4,
      "outputs": [
        {
          "output_type": "stream",
          "text": [
            "{\"id\":\"889fd5f1-f811-46b4-88a3-5a65b90ae128\",\"text\":\"`Stewardesses` is the longest word that is typed with only the left hand.\",\"source\":\"djtech.net\",\"source_url\":\"http:\\/\\/www.djtech.net\\/humor\\/useless_facts.htm\",\"language\":\"en\",\"permalink\":\"https:\\/\\/uselessfacts.jsph.pl\\/889fd5f1-f811-46b4-88a3-5a65b90ae128\"}\n"
          ],
          "name": "stdout"
        }
      ]
    },
    {
      "cell_type": "code",
      "metadata": {
        "colab": {
          "base_uri": "https://localhost:8080/"
        },
        "id": "GpaFrsHuV_qD",
        "outputId": "01d1f884-26f3-4fda-ece0-778d1153e708"
      },
      "source": [
        "query_parameters ={\n",
        "    'language':'en'\n",
        "}\n",
        "result= requests.get('https://uselessfacts.jsph.pl/random.json', params= query_parameters)\n",
        "\n",
        "print(result.json().get('text'))"
      ],
      "execution_count": 6,
      "outputs": [
        {
          "output_type": "stream",
          "text": [
            "The shortest war in history was between Zanzibar and England in 1896. Zanzibar surrendered after 38 minutes.\n"
          ],
          "name": "stdout"
        }
      ]
    },
    {
      "cell_type": "markdown",
      "metadata": {
        "id": "jVNd81FIRHIY"
      },
      "source": [
        "#Data Structures.  \n",
        "The important ones are :Lists, dictionaries and sets. "
      ]
    },
    {
      "cell_type": "code",
      "metadata": {
        "colab": {
          "base_uri": "https://localhost:8080/"
        },
        "id": "-5JTgPdCPE0J",
        "outputId": "65e7aaf1-6d80-4ed4-f736-f2aa0754e52a"
      },
      "source": [
        "data= ['mariola', 'you']\n",
        "\n",
        "data.append('ewa')\n",
        "print(data)"
      ],
      "execution_count": 16,
      "outputs": [
        {
          "output_type": "stream",
          "text": [
            "['mariola', 'you', 'ewa']\n"
          ],
          "name": "stdout"
        }
      ]
    },
    {
      "cell_type": "markdown",
      "metadata": {
        "id": "FpLUN-PlNEqn"
      },
      "source": [
        ""
      ]
    },
    {
      "cell_type": "markdown",
      "metadata": {
        "id": "QU_6h0BtNCkb"
      },
      "source": [
        "## **List Slicing**.  \n",
        "First number -starting inclusive.  \n",
        "second number - stopping position exclusive.  \n",
        "third number-step(what interval you want to grab, 2 will grab every other piece of data \n"
      ]
    },
    {
      "cell_type": "code",
      "metadata": {
        "colab": {
          "base_uri": "https://localhost:8080/"
        },
        "id": "pg8Wjo1aJgX2",
        "outputId": "12df0077-cbda-4170-de2e-c2e0de677cb7"
      },
      "source": [
        "names= ['mariola', 'koni', 'csilla', 'mirek ', 'wiesio', 'grzesio', 'maria', 'jerzy']\n",
        "\n",
        "print(names [1:7:2])"
      ],
      "execution_count": 15,
      "outputs": [
        {
          "output_type": "stream",
          "text": [
            "['koni', 'mirek ', 'grzesio']\n"
          ],
          "name": "stdout"
        }
      ]
    },
    {
      "cell_type": "markdown",
      "metadata": {
        "id": "wtmhgZejRYIP"
      },
      "source": [
        "#Dictionaries and Sets \n"
      ]
    },
    {
      "cell_type": "code",
      "metadata": {
        "colab": {
          "base_uri": "https://localhost:8080/"
        },
        "id": "ZlG7K0GcRXv9",
        "outputId": "4e1d4c88-f0c1-43c6-fd52-79898706233c"
      },
      "source": [
        "data = {'caleb', 'mariola', 'mirek', 'wiesio', 'caleb'}\n",
        "\n",
        "data_dictionary={\n",
        "    'caleb': 5,\n",
        "    'mariola': 12,\n",
        "    'mirek': 9,\n",
        "    'wiesio': 10,\n",
        "    'caleb': 10\n",
        "    \n",
        "}\n",
        "print(data)\n",
        "print(data_dictionary.get('caleb'))"
      ],
      "execution_count": 19,
      "outputs": [
        {
          "output_type": "stream",
          "text": [
            "{'mariola', 'wiesio', 'mirek', 'caleb'}\n",
            "10\n"
          ],
          "name": "stdout"
        }
      ]
    },
    {
      "cell_type": "markdown",
      "metadata": {
        "id": "K0ixq1tGX6Hv"
      },
      "source": [
        "#Control Flow.  \n",
        "Fancy word for Loops and Conditionals(IF statement ).  \n",
        "Iteration- One time throught the loop"
      ]
    },
    {
      "cell_type": "code",
      "metadata": {
        "colab": {
          "base_uri": "https://localhost:8080/"
        },
        "id": "HI5Svsj_X1oM",
        "outputId": "98603627-6302-4c0a-e50f-a1b9d8cf0960"
      },
      "source": [
        "data= ['a', 'b', 'c', 'd', 'e']\n",
        " \n",
        "for i in range(10):\n",
        "  print(i, end=' ')\n",
        "\n",
        "print('')\n",
        "for i in range(len(data)) :\n",
        "  print(data[i], end = ' ')\n",
        "\n",
        "print('')\n",
        "for i , letter in enumerate(data):\n",
        "  print(i, letter, end= '')"
      ],
      "execution_count": 45,
      "outputs": [
        {
          "output_type": "stream",
          "text": [
            "0 1 2 3 4 5 6 7 8 9 \n",
            "a b c d e \n",
            "0 a1 b2 c3 d4 e"
          ],
          "name": "stdout"
        }
      ]
    },
    {
      "cell_type": "code",
      "metadata": {
        "colab": {
          "base_uri": "https://localhost:8080/"
        },
        "id": "KxwgXR2NqUeo",
        "outputId": "ce7f28f0-c16d-4878-99d5-aa4cc0258f64"
      },
      "source": [
        "data= ['a', 'b', 'c', 'd', 'e']\n",
        "\n",
        "i=0\n",
        "\n",
        "while i < len(data):\n",
        "  print(data[i], end=' ')\n",
        "  i += 1 \n",
        "\n",
        "while True:\n",
        "  x=input()\n",
        "  if x == \"stop\":\n",
        "    break\n",
        "  elif x == \"special\":\n",
        "    continue  \n",
        "  print(\"It wasnt stop or special\")  "
      ],
      "execution_count": 55,
      "outputs": [
        {
          "output_type": "stream",
          "text": [
            "a b c d e halo\n",
            "It wasnt stop or special\n",
            "halo\n",
            "It wasnt stop or special\n",
            "stop\n"
          ],
          "name": "stdout"
        }
      ]
    },
    {
      "cell_type": "code",
      "metadata": {
        "colab": {
          "base_uri": "https://localhost:8080/"
        },
        "id": "P6FsDoIT1mjU",
        "outputId": "875f3b75-9fe8-47ba-e057-a30809a9d10e"
      },
      "source": [
        "data_dictionary={\n",
        "    'caleb': 5,\n",
        "    'mariola': 12,\n",
        "    'mirek': 9,\n",
        "    'wiesio': 10,\n",
        "    'caleb': 10\n",
        "}\n",
        "for key, value in data_dictionary.items():\n",
        "  if value == 12:\n",
        "    print(\"We found value 12\") \n",
        "    break  \n",
        "  print(key,value) "
      ],
      "execution_count": 61,
      "outputs": [
        {
          "output_type": "stream",
          "text": [
            "caleb 10\n",
            "We found value 12\n"
          ],
          "name": "stdout"
        }
      ]
    },
    {
      "cell_type": "markdown",
      "metadata": {
        "id": "20NE5wAMgZfl"
      },
      "source": [
        "##Random Number guessing game \n",
        "\n",
        "Generate a random rumber by importing random module.\n",
        "Create a do while loop and conditional statements for different options "
      ]
    },
    {
      "cell_type": "code",
      "metadata": {
        "colab": {
          "base_uri": "https://localhost:8080/"
        },
        "id": "n6RHwGpCddKG",
        "outputId": "ae4085bd-6bb2-45a3-a995-bfaf4f6938be"
      },
      "source": [
        "from random import randint\n",
        "low= 0\n",
        "high= 100\n",
        "correct= randint (low, high)\n",
        "print(f\" Guess a number between {low} and {high}\")\n",
        "\n",
        "while True:\n",
        "  guess = int(input())\n",
        "\n",
        "  if guess < correct:  \n",
        "    print(\"You need to go higher\")\n",
        "  elif guess > correct:\n",
        "    print(\"You need to go lower\")\n",
        "  else:\n",
        "    print(\"You have won\")  \n",
        "    break\n",
        "  "
      ],
      "execution_count": 26,
      "outputs": [
        {
          "output_type": "stream",
          "text": [
            " Guess a number between 0 and 100\n",
            "50\n",
            "You need to go higher\n",
            "75\n",
            "You need to go lower\n",
            "60\n",
            "You need to go higher\n",
            "70\n",
            "You need to go lower\n",
            "65\n",
            "You need to go higher\n",
            "66\n",
            "You need to go higher\n",
            "69\n",
            "You have won\n"
          ],
          "name": "stdout"
        }
      ]
    }
  ]
}