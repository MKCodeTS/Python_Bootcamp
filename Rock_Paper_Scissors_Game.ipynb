{
  "nbformat": 4,
  "nbformat_minor": 0,
  "metadata": {
    "colab": {
      "name": "Rock Paper Scissors Game",
      "provenance": [],
      "authorship_tag": "ABX9TyMftGOc2pYaML+VmcDGN9G3",
      "include_colab_link": true
    },
    "kernelspec": {
      "name": "python3",
      "display_name": "Python 3"
    }
  },
  "cells": [
    {
      "cell_type": "markdown",
      "metadata": {
        "id": "view-in-github",
        "colab_type": "text"
      },
      "source": [
        "<a href=\"https://colab.research.google.com/github/MKCodeTS/Python_Bootcamp/blob/main/Rock_Paper_Scissors_Game.ipynb\" target=\"_parent\"><img src=\"https://colab.research.google.com/assets/colab-badge.svg\" alt=\"Open In Colab\"/></a>"
      ]
    },
    {
      "cell_type": "markdown",
      "metadata": {
        "id": "qIHxylDGUriW"
      },
      "source": [
        "#Rock Paper Scissors Game "
      ]
    },
    {
      "cell_type": "code",
      "metadata": {
        "colab": {
          "base_uri": "https://localhost:8080/"
        },
        "id": "vgMvSM3NUfUh",
        "outputId": "affc3e0a-c4e1-4412-be3b-4c2fef42e134"
      },
      "source": [
        "import random \n",
        "from enum import IntEnum\n",
        "\n",
        "class Action(IntEnum):\n",
        "  Paper=0\n",
        "  Rock=1\n",
        "  Scissors =2\n",
        "\n",
        "victories= {\n",
        "    Action.Scissors: [Action.Paper],\n",
        "    Action.Paper: [Action.Rock],\n",
        "    Action.Rock: [Action.Scissors]\n",
        "}  \n",
        "\n",
        "def get_user_selection():\n",
        "  choices= [f'{action.name}[{action.value}]' for action in Action]\n",
        "  choices_str= \", \".join(choices)\n",
        "  selection= int(input(f'Enter your choice ({choices_str}): '))\n",
        "  action=Action(selection)\n",
        "  return action \n",
        "\n",
        "def get_computer_selection():\n",
        "  selection=random.randint(0, len(Action)-1)\n",
        "  action=Action(selection)\n",
        "  return action \n",
        "\n",
        "def determine_winner(user_action, computer_action):\n",
        "    defeats= victories[user_action]\n",
        "    if user_action== computer_action:\n",
        "        print(f'Both players selected {user_action.name}. It is a tie')\n",
        "    elif computer_action in defeats:\n",
        "        print(f'{user_action.name} beats {computer_action.name}. You win!')\n",
        "    else:\n",
        "        print(f'{computer_action.name} beats {user_action.name}. You lose!')\n",
        "\n",
        "while True:\n",
        "    try:\n",
        "        user_action = get_user_selection()\n",
        "    except ValueError as e:\n",
        "        range_str= f'[0, {len(Action)-1}]'\n",
        "        print(f'Invalid selection. Enter a value in range {range_str}')\n",
        "        continue\n",
        "    computer_action= get_computer_selection()\n",
        "    determine_winner(user_action, computer_action)\n",
        "\n",
        "    play_again=input('Play again? (y/n): ')\n",
        "    if play_again.lower() != 'y':\n",
        "        break\n",
        "\n",
        "\n",
        "\n",
        "\n"
      ],
      "execution_count": 1,
      "outputs": [
        {
          "output_type": "stream",
          "text": [
            "Enter your choice (Paper[0], Rock[1], Scissors[2]): 2\n",
            "Scissors beats Paper. You win!\n",
            "Play again? (y/n): y\n",
            "Enter your choice (Paper[0], Rock[1], Scissors[2]): p\n",
            "Invalid selection. Enter a value in range [0, 2]\n",
            "Enter your choice (Paper[0], Rock[1], Scissors[2]): 0\n",
            "Both players selected Paper. It is a tie\n",
            "Play again? (y/n): n\n"
          ],
          "name": "stdout"
        }
      ]
    }
  ]
}